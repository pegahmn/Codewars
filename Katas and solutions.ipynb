{
 "cells": [
  {
   "cell_type": "markdown",
   "id": "a7133459",
   "metadata": {},
   "source": [
    "# 1.reverse a list"
   ]
  },
  {
   "cell_type": "code",
   "execution_count": 1,
   "id": "0e281645",
   "metadata": {},
   "outputs": [
    {
     "data": {
      "text/plain": [
       "[3, 7, 6, 8, 9, 4, 2]"
      ]
     },
     "execution_count": 1,
     "metadata": {},
     "output_type": "execute_result"
    }
   ],
   "source": [
    "import numpy as np \n",
    "n=3768942\n",
    "lst=[int(a)for a in str(n)]\n",
    "lst"
   ]
  },
  {
   "cell_type": "code",
   "execution_count": 2,
   "id": "489c2df9",
   "metadata": {},
   "outputs": [
    {
     "name": "stdout",
     "output_type": "stream",
     "text": [
      "[2, 4, 9, 8, 6, 7, 3]\n"
     ]
    }
   ],
   "source": [
    "lst.reverse()\n",
    "print(lst)"
   ]
  },
  {
   "cell_type": "markdown",
   "id": "264c1021",
   "metadata": {},
   "source": [
    "#### eval()"
   ]
  },
  {
   "cell_type": "code",
   "execution_count": 3,
   "id": "2dae75aa",
   "metadata": {},
   "outputs": [],
   "source": [
    "def oper(operator, val1, val2):\n",
    "    return (eval(\"{} {} {}\".format(val1, operator, val2)))"
   ]
  },
  {
   "cell_type": "code",
   "execution_count": 4,
   "id": "bca76361",
   "metadata": {},
   "outputs": [
    {
     "data": {
      "text/plain": [
       "32"
      ]
     },
     "execution_count": 4,
     "metadata": {},
     "output_type": "execute_result"
    }
   ],
   "source": [
    "oper('+', 15,17)"
   ]
  },
  {
   "cell_type": "markdown",
   "id": "1fd8c2e5",
   "metadata": {},
   "source": [
    "# 2.Given an array of integers.\n",
    "\n",
    "Return an array, where the first element is the count of positives numbers and the second element is sum of negative numbers. 0 is neither positive nor negative.\n",
    "\n",
    "If the input is an empty array or is null, return an empty array."
   ]
  },
  {
   "cell_type": "code",
   "execution_count": 5,
   "id": "c20c3649",
   "metadata": {},
   "outputs": [],
   "source": [
    "def count_positives_sum_negatives(arr):\n",
    "    pos = sum(1 for x in arr if x > 0)\n",
    "    neg = sum(x for x in arr if x < 0)\n",
    "    return [pos, neg] if len(arr) else []"
   ]
  },
  {
   "cell_type": "code",
   "execution_count": 6,
   "id": "6c621b41",
   "metadata": {
    "scrolled": true
   },
   "outputs": [
    {
     "data": {
      "text/plain": [
       "[11, -86]"
      ]
     },
     "execution_count": 6,
     "metadata": {},
     "output_type": "execute_result"
    }
   ],
   "source": [
    "count_positives_sum_negatives([1,2,3,4,5,6,7,8,9,10,11,-2,-5,-56,-23])"
   ]
  },
  {
   "cell_type": "markdown",
   "id": "48a44a30",
   "metadata": {},
   "source": [
    "# 3.\n",
    "In a factory a printer prints labels for boxes. For one kind of boxes the printer has to use colors which, for the sake of simplicity, are named with letters from a to m.\n",
    "\n",
    "The colors used by the printer are recorded in a control string. For example a \"good\" control string would be aaabbbbhaijjjm meaning that the printer used three times color a, four times color b, one time color h then one time color a...\n",
    "\n",
    "Sometimes there are problems: lack of colors, technical malfunction and a \"bad\" control string is produced e.g. aaaxbbbbyyhwawiwjjjwwm with letters not from a to m.\n",
    "\n",
    "You have to write a function printer_error which given a string will return the error rate of the printer as a string representing a rational whose numerator is the number of errors and the denominator the length of the control string. Don't reduce this fraction to a simpler expression.\n",
    "\n",
    "The string has a length greater or equal to one and contains only letters from ato z."
   ]
  },
  {
   "cell_type": "code",
   "execution_count": 7,
   "id": "cfd666c5",
   "metadata": {},
   "outputs": [],
   "source": [
    "def printer_error(s):\n",
    "    l=len(s)\n",
    "    q=['a','b','c','d','e','f','g','h','i','j','k','l','m']\n",
    "    count=sum(1 for i in s if i not in q)\n",
    "    return str(count)+'/'+str(l)\n",
    "    # your code"
   ]
  },
  {
   "cell_type": "code",
   "execution_count": 8,
   "id": "ce7d7827",
   "metadata": {},
   "outputs": [
    {
     "data": {
      "text/plain": [
       "'9/25'"
      ]
     },
     "execution_count": 8,
     "metadata": {},
     "output_type": "execute_result"
    }
   ],
   "source": [
    "printer_error('ahwsndebfgeswgeedssfesduj')"
   ]
  },
  {
   "cell_type": "code",
   "execution_count": 9,
   "id": "cbf594fc",
   "metadata": {},
   "outputs": [],
   "source": [
    "from re import sub\n",
    "def printer_error(s):\n",
    "    return \"{}/{}\".format(len(sub(\"[a-m]\",'',s)),len(s))"
   ]
  },
  {
   "cell_type": "code",
   "execution_count": 10,
   "id": "f6780388",
   "metadata": {},
   "outputs": [
    {
     "data": {
      "text/plain": [
       "'9/25'"
      ]
     },
     "execution_count": 10,
     "metadata": {},
     "output_type": "execute_result"
    }
   ],
   "source": [
    "printer_error('ahwsndebfgeswgeedssfesduj')"
   ]
  },
  {
   "cell_type": "code",
   "execution_count": 11,
   "id": "74987611",
   "metadata": {},
   "outputs": [],
   "source": [
    "def printer_error(s):\n",
    "    return '{}/{}'.format(sum(color > 'm' for color in s), len(s))"
   ]
  },
  {
   "cell_type": "code",
   "execution_count": 12,
   "id": "7e8b00b9",
   "metadata": {},
   "outputs": [
    {
     "data": {
      "text/plain": [
       "'9/25'"
      ]
     },
     "execution_count": 12,
     "metadata": {},
     "output_type": "execute_result"
    }
   ],
   "source": [
    "printer_error('ahwsndebfgeswgeedssfesduj')"
   ]
  },
  {
   "cell_type": "code",
   "execution_count": 13,
   "id": "bc96d584",
   "metadata": {},
   "outputs": [],
   "source": [
    "def printer_error(s):\n",
    "    return \"{}/{}\".format(len([x for x in s if x not in \"abcdefghijklm\"]), len(s))"
   ]
  },
  {
   "cell_type": "code",
   "execution_count": 14,
   "id": "1bc12bad",
   "metadata": {},
   "outputs": [
    {
     "data": {
      "text/plain": [
       "'9/25'"
      ]
     },
     "execution_count": 14,
     "metadata": {},
     "output_type": "execute_result"
    }
   ],
   "source": [
    "printer_error('ahwsndebfgeswgeedssfesduj')"
   ]
  },
  {
   "cell_type": "markdown",
   "id": "77782373",
   "metadata": {},
   "source": [
    "# 4.BMI\n",
    "Write function bmi that calculates body mass index (bmi = weight / height2).\n",
    "\n",
    "if bmi <= 18.5 return \"Underweight\"\n",
    "\n",
    "if bmi <= 25.0 return \"Normal\"\n",
    "\n",
    "if bmi <= 30.0 return \"Overweight\"\n",
    "\n",
    "if bmi > 30 return \"Obese\""
   ]
  },
  {
   "cell_type": "code",
   "execution_count": 15,
   "id": "bf185258",
   "metadata": {},
   "outputs": [],
   "source": [
    "def bmi(weight, height):\n",
    "    b = weight / height ** 2\n",
    "    return ['Underweight', 'Normal', 'Overweight', 'Obese'][(b > 30) + (b > 25) + (b > 18.5)]"
   ]
  },
  {
   "cell_type": "code",
   "execution_count": 16,
   "id": "808371d8",
   "metadata": {},
   "outputs": [
    {
     "data": {
      "text/plain": [
       "'Normal'"
      ]
     },
     "execution_count": 16,
     "metadata": {},
     "output_type": "execute_result"
    }
   ],
   "source": [
    "bmi(58,1.6)"
   ]
  },
  {
   "cell_type": "markdown",
   "id": "75ecd7b7",
   "metadata": {},
   "source": [
    "# 5.Removing spaces"
   ]
  },
  {
   "cell_type": "code",
   "execution_count": 17,
   "id": "059289f2",
   "metadata": {},
   "outputs": [],
   "source": [
    "def no_space(x):\n",
    "    return \"\".join(x.split())"
   ]
  },
  {
   "cell_type": "code",
   "execution_count": 18,
   "id": "b2c808e9",
   "metadata": {},
   "outputs": [
    {
     "data": {
      "text/plain": [
       "'hellotoyoustupidpeople!'"
      ]
     },
     "execution_count": 18,
     "metadata": {},
     "output_type": "execute_result"
    }
   ],
   "source": [
    "x='hello to you stupid people !'\n",
    "no_space(x)"
   ]
  },
  {
   "cell_type": "code",
   "execution_count": 19,
   "id": "e24f456f",
   "metadata": {},
   "outputs": [],
   "source": [
    "def no_space(x):\n",
    "    return x.replace(' ','')"
   ]
  },
  {
   "cell_type": "code",
   "execution_count": 20,
   "id": "c1972495",
   "metadata": {},
   "outputs": [
    {
     "data": {
      "text/plain": [
       "'hellotoyoustupidpeople!,heybut'"
      ]
     },
     "execution_count": 20,
     "metadata": {},
     "output_type": "execute_result"
    }
   ],
   "source": [
    "x='hello to you stupid people !, hey but '\n",
    "no_space(x)"
   ]
  },
  {
   "cell_type": "markdown",
   "id": "ee208638",
   "metadata": {},
   "source": [
    "# 6.\n",
    "However, an array might contain another array containing other values. You still have to find the number of possible sequences for these.\n",
    "\n",
    "Multi-dimensional arrays\n",
    "\n",
    "findCombos([[1, 2]]);\n",
    "// 2 -> [[1, 2]], [[2, 1]]     \n",
    "\n",
    "findCombos([[1, 2], [3]]); \n",
    "// 6 -> [[1, 2], [3]], [[1, 3], [2]], \n",
    "//      [[2, 1], [3]], [[2, 3], [1]],\n",
    "//      [[3, 1], [2]], [[3, 2], [1]]\n",
    "Arrays might be empty. These should be ignored and don't belong to any sequence.\n",
    "\n",
    "findCombos([1, 2, []]); \n",
    "// 2 -> [1, 2], [2, 1] \n",
    "\n",
    "findCombos([[], [2, 2], [3]]);\n",
    "// 3 -> [2, 2, 3], [3, 2, 2]\n",
    "//      [2, 3, 2]\n",
    "The number of nested arrays don't influence the result. The number of sequences only depends on the integers.\n",
    "\n",
    "findCombos([1, 2, 3]) == findCombos([[1, 2], [3]]);  // true\n",
    "findCombos([2, 3])    == findCombos([[1, 2], [3]]);  // false\n",
    "\n",
    "var c1 = findCombos([[[[4]], 5]]); // 2 -> [4, 5], [5, 4]\n",
    "var c2 = findCombos([1, [2]]);     // 2 -> [1, 2], [2, 1]\n",
    "\n",
    "c2 == c1; // true\n",
    "Take note\n",
    "The array might have nested arrays of any length.\n",
    "If the array contains less than two values (or just has empty arrays) return 1.\n",
    "Good luck!\n",
    "findCombos([312,[333],[3,3,3,[],[[3], 44, [2, []]], 2, []]]); // 7560"
   ]
  },
  {
   "cell_type": "code",
   "execution_count": 21,
   "id": "c83931c4",
   "metadata": {},
   "outputs": [
    {
     "data": {
      "text/plain": [
       "[1, 2, 3, 3, [], [6, []]]"
      ]
     },
     "execution_count": 21,
     "metadata": {},
     "output_type": "execute_result"
    }
   ],
   "source": [
    "a=([1,2,3,3,[],[6,[]]])\n",
    "a"
   ]
  },
  {
   "cell_type": "markdown",
   "id": "25a6d7af",
   "metadata": {},
   "source": [
    "# 7.Trolls are attacking your comment section!\n",
    "\n",
    "A common way to deal with this situation is to remove all of the vowels from the trolls' comments, neutralizing the threat.\n",
    "\n",
    "Your task is to write a function that takes a string and return a new string with all vowels removed.\n",
    "\n",
    "For example, the string \"This website is for losers LOL!\" would become \"Ths wbst s fr lsrs LL!\".\n",
    "\n",
    "Note: for this kata y isn't considered a vowel."
   ]
  },
  {
   "cell_type": "code",
   "execution_count": 22,
   "id": "8e861433",
   "metadata": {},
   "outputs": [],
   "source": [
    "def disemvowel(string):\n",
    "    return \"\".join(c for c in string if c.lower() not in \"aeiou\")"
   ]
  },
  {
   "cell_type": "code",
   "execution_count": 23,
   "id": "30e54645",
   "metadata": {},
   "outputs": [
    {
     "data": {
      "text/plain": [
       "'hr w g gn, ths sht'"
      ]
     },
     "execution_count": 23,
     "metadata": {},
     "output_type": "execute_result"
    }
   ],
   "source": [
    "disemvowel('here we go again, this shit')"
   ]
  },
  {
   "cell_type": "markdown",
   "id": "c17496c5",
   "metadata": {},
   "source": [
    "# 8.Can you find the needle in the haystack?"
   ]
  },
  {
   "cell_type": "code",
   "execution_count": 24,
   "id": "69affb00",
   "metadata": {},
   "outputs": [
    {
     "data": {
      "text/plain": [
       "'found the needle at position 5'"
      ]
     },
     "execution_count": 24,
     "metadata": {},
     "output_type": "execute_result"
    }
   ],
   "source": [
    "haystack=[\"hay\", \"junk\", \"hay\", \"hay\", \"moreJunk\", \"needle\", \"randomJunk\"]\n",
    "'found the needle at position {}'.format(haystack.index('needle'))"
   ]
  },
  {
   "cell_type": "markdown",
   "id": "0a8d8570",
   "metadata": {},
   "source": [
    "# 9.Find the middle"
   ]
  },
  {
   "cell_type": "markdown",
   "id": "cc56bbc1",
   "metadata": {},
   "source": [
    "### 9.1"
   ]
  },
  {
   "cell_type": "code",
   "execution_count": 25,
   "id": "9e5a9080",
   "metadata": {},
   "outputs": [
    {
     "name": "stdout",
     "output_type": "stream",
     "text": [
      "t\n"
     ]
    }
   ],
   "source": [
    "import math as m \n",
    "m.floor(9/2)\n",
    "s='testing'\n",
    "l=len(s)\n",
    "if l%2==0:print(s[int(l/2)-1:int(l/2)+1])\n",
    "elif l%2==1:print(s[int(l/2)])"
   ]
  },
  {
   "cell_type": "markdown",
   "id": "45825ca6",
   "metadata": {},
   "source": [
    "### 9.2"
   ]
  },
  {
   "cell_type": "code",
   "execution_count": 26,
   "id": "96972f98",
   "metadata": {},
   "outputs": [],
   "source": [
    "def get_middle(s):\n",
    "    index, odd = divmod(len(s), 2)\n",
    "    return s[index] if odd else s[index - 1:index + 1]"
   ]
  },
  {
   "cell_type": "code",
   "execution_count": 27,
   "id": "162c9f21",
   "metadata": {
    "scrolled": false
   },
   "outputs": [
    {
     "data": {
      "text/plain": [
       "'es'"
      ]
     },
     "execution_count": 27,
     "metadata": {},
     "output_type": "execute_result"
    }
   ],
   "source": [
    "get_middle('test')"
   ]
  },
  {
   "cell_type": "markdown",
   "id": "43cc2d0c",
   "metadata": {},
   "source": [
    "# 10.\n",
    "Check to see if a string has the same amount of 'x's and 'o's. The method must return a boolean and be case insensitive. The string can contain any char."
   ]
  },
  {
   "cell_type": "code",
   "execution_count": 28,
   "id": "30b2e2d5",
   "metadata": {},
   "outputs": [],
   "source": [
    "def xo(s):\n",
    "    return True if s.count('x')+s.count('X')==s.count('o')+s.count('O') else False "
   ]
  },
  {
   "cell_type": "code",
   "execution_count": 29,
   "id": "a5ba7a0e",
   "metadata": {
    "scrolled": false
   },
   "outputs": [
    {
     "data": {
      "text/plain": [
       "False"
      ]
     },
     "execution_count": 29,
     "metadata": {},
     "output_type": "execute_result"
    }
   ],
   "source": [
    "xo('zzzppoomm')"
   ]
  },
  {
   "cell_type": "code",
   "execution_count": 30,
   "id": "31706dbc",
   "metadata": {},
   "outputs": [],
   "source": [
    "def xo(s):\n",
    "    s = s.lower()\n",
    "    return s.count('x') == s.count('o')"
   ]
  },
  {
   "cell_type": "code",
   "execution_count": 31,
   "id": "5d43612d",
   "metadata": {},
   "outputs": [
    {
     "data": {
      "text/plain": [
       "False"
      ]
     },
     "execution_count": 31,
     "metadata": {},
     "output_type": "execute_result"
    }
   ],
   "source": [
    "xo('zzzppoomm')"
   ]
  },
  {
   "cell_type": "code",
   "execution_count": 32,
   "id": "fa785052",
   "metadata": {},
   "outputs": [],
   "source": [
    "import re \n",
    "def xo(s):\n",
    "    s = s.lower()\n",
    "    return len(re.findall('x',s)) == len(re.findall('o',s))"
   ]
  },
  {
   "cell_type": "code",
   "execution_count": 33,
   "id": "b3015c9b",
   "metadata": {},
   "outputs": [
    {
     "data": {
      "text/plain": [
       "False"
      ]
     },
     "execution_count": 33,
     "metadata": {},
     "output_type": "execute_result"
    }
   ],
   "source": [
    "xo('zzzppoomm')"
   ]
  },
  {
   "cell_type": "markdown",
   "id": "4d26fcb7",
   "metadata": {},
   "source": [
    "# 11.A square of squares"
   ]
  },
  {
   "cell_type": "code",
   "execution_count": 34,
   "id": "351ca257",
   "metadata": {},
   "outputs": [],
   "source": [
    "import math \n",
    "def is_square(n): \n",
    "    if n>-1:\n",
    "        return True if int(math.sqrt(n))**2==n else False\n",
    "    else: return False"
   ]
  },
  {
   "cell_type": "code",
   "execution_count": 35,
   "id": "1177a097",
   "metadata": {},
   "outputs": [
    {
     "data": {
      "text/plain": [
       "False"
      ]
     },
     "execution_count": 35,
     "metadata": {},
     "output_type": "execute_result"
    }
   ],
   "source": [
    "is_square(1000)"
   ]
  },
  {
   "cell_type": "markdown",
   "id": "1f9c7100",
   "metadata": {},
   "source": [
    "### 11.2"
   ]
  },
  {
   "cell_type": "code",
   "execution_count": 36,
   "id": "bfce8c2b",
   "metadata": {},
   "outputs": [],
   "source": [
    "import math\n",
    "def is_square(n):\n",
    "    return n > -1 and math.sqrt(n) % 1 == 0;"
   ]
  },
  {
   "cell_type": "code",
   "execution_count": 37,
   "id": "ac6ce2bf",
   "metadata": {},
   "outputs": [
    {
     "data": {
      "text/plain": [
       "False"
      ]
     },
     "execution_count": 37,
     "metadata": {},
     "output_type": "execute_result"
    }
   ],
   "source": [
    "is_square(1000)"
   ]
  },
  {
   "cell_type": "code",
   "execution_count": 38,
   "id": "e304062b",
   "metadata": {},
   "outputs": [
    {
     "name": "stdout",
     "output_type": "stream",
     "text": [
      "0.6227766016837926\n",
      "31.622776601683793\n"
     ]
    }
   ],
   "source": [
    "print(math.sqrt(1000) % 1)\n",
    "print(math.sqrt(1000))"
   ]
  },
  {
   "cell_type": "markdown",
   "id": "4848a76c",
   "metadata": {},
   "source": [
    "# 13\n",
    "Take 2 strings s1 and s2 including only letters from a to z. Return a new sorted string, the longest possible, containing distinct letters - each taken only once - coming from s1 or s2."
   ]
  },
  {
   "cell_type": "code",
   "execution_count": 39,
   "id": "d1066d64",
   "metadata": {},
   "outputs": [],
   "source": [
    "def longest(a1, a2):\n",
    "    l=''.join(sorted(set(a1+a2)))\n",
    "    return l"
   ]
  },
  {
   "cell_type": "code",
   "execution_count": 40,
   "id": "88332196",
   "metadata": {},
   "outputs": [
    {
     "data": {
      "text/plain": [
       "'adefghijkoprstvy'"
      ]
     },
     "execution_count": 40,
     "metadata": {},
     "output_type": "execute_result"
    }
   ],
   "source": [
    "longest('avgdtrhehggfsssstftffddf','kopopkkhjjhgyfyiji')"
   ]
  },
  {
   "cell_type": "markdown",
   "id": "92b5870d",
   "metadata": {},
   "source": [
    "# 14.\n",
    "Given two integers a and b, which can be positive or negative, find the sum of all the integers between and including them and return it. If the two numbers are equal return a or b."
   ]
  },
  {
   "cell_type": "markdown",
   "id": "d70a12d7",
   "metadata": {},
   "source": [
    "### 14.1"
   ]
  },
  {
   "cell_type": "code",
   "execution_count": 41,
   "id": "dd104b55",
   "metadata": {},
   "outputs": [],
   "source": [
    "def get_sum(a,b):\n",
    "    return sum(i for i in range(a,b+1)) if b>=a else sum(i for i in range(b,a+1))"
   ]
  },
  {
   "cell_type": "code",
   "execution_count": 42,
   "id": "147cbce4",
   "metadata": {},
   "outputs": [
    {
     "data": {
      "text/plain": [
       "-1"
      ]
     },
     "execution_count": 42,
     "metadata": {},
     "output_type": "execute_result"
    }
   ],
   "source": [
    "get_sum(0,-1)"
   ]
  },
  {
   "cell_type": "markdown",
   "id": "4e096baa",
   "metadata": {},
   "source": [
    "### 14.2"
   ]
  },
  {
   "cell_type": "code",
   "execution_count": 43,
   "id": "b940513f",
   "metadata": {},
   "outputs": [],
   "source": [
    "def get_sum(a,b):\n",
    "    return sum(range(min(a, b), max(a, b) + 1))"
   ]
  },
  {
   "cell_type": "code",
   "execution_count": 44,
   "id": "5409a85d",
   "metadata": {},
   "outputs": [
    {
     "data": {
      "text/plain": [
       "28"
      ]
     },
     "execution_count": 44,
     "metadata": {},
     "output_type": "execute_result"
    }
   ],
   "source": [
    "get_sum(0,7)"
   ]
  },
  {
   "cell_type": "markdown",
   "id": "d6a58e64",
   "metadata": {},
   "source": [
    "# 15\n",
    "You might know some pretty large perfect squares. But what about the NEXT one?"
   ]
  },
  {
   "cell_type": "code",
   "execution_count": 45,
   "id": "36c8ca65",
   "metadata": {},
   "outputs": [],
   "source": [
    "import math as m\n",
    "def find_next_square(sq):\n",
    "    if m.sqrt(sq)%1==0:return int(m.sqrt(sq)+1)**2\n",
    "    else:return -1\n"
   ]
  },
  {
   "cell_type": "code",
   "execution_count": 46,
   "id": "bffda99c",
   "metadata": {},
   "outputs": [
    {
     "data": {
      "text/plain": [
       "169"
      ]
     },
     "execution_count": 46,
     "metadata": {},
     "output_type": "execute_result"
    }
   ],
   "source": [
    "find_next_square(144)"
   ]
  },
  {
   "cell_type": "markdown",
   "id": "6bf6ea92",
   "metadata": {},
   "source": [
    "# 16 **\n",
    "Complete the method/function so that it converts dash/underscore delimited words into camel casing. The first word within the output should be capitalized only if the original word was capitalized (known as Upper Camel Case, also often referred to as Pascal case)."
   ]
  },
  {
   "cell_type": "markdown",
   "id": "4041b552",
   "metadata": {},
   "source": [
    "### 16.1"
   ]
  },
  {
   "cell_type": "code",
   "execution_count": 47,
   "id": "eb89a9e4",
   "metadata": {},
   "outputs": [],
   "source": [
    "import re\n",
    "def to_camel_case(text):\n",
    "    s = re.split(r'-|_', text)\n",
    "    capt = s[0]\n",
    "    for i in range(1,len(s)):\n",
    "        capw = s[i].capitalize()\n",
    "        capt = capt + capw\n",
    "    return capt"
   ]
  },
  {
   "cell_type": "code",
   "execution_count": 48,
   "id": "415a06ca",
   "metadata": {},
   "outputs": [
    {
     "data": {
      "text/plain": [
       "'theStealthWarrior'"
      ]
     },
     "execution_count": 48,
     "metadata": {},
     "output_type": "execute_result"
    }
   ],
   "source": [
    "to_camel_case(\"the-stealth-warrior\")"
   ]
  },
  {
   "cell_type": "markdown",
   "id": "b18f3497",
   "metadata": {},
   "source": [
    "### 16.2 "
   ]
  },
  {
   "cell_type": "code",
   "execution_count": 49,
   "id": "fd59378a",
   "metadata": {},
   "outputs": [],
   "source": [
    "def to_camel_case(text):\n",
    "    return text[:1] + text.title()[1:].replace('_', '').replace('-', '')"
   ]
  },
  {
   "cell_type": "code",
   "execution_count": 50,
   "id": "a2d38b5b",
   "metadata": {},
   "outputs": [
    {
     "data": {
      "text/plain": [
       "'theStealthWarrior'"
      ]
     },
     "execution_count": 50,
     "metadata": {},
     "output_type": "execute_result"
    }
   ],
   "source": [
    "to_camel_case(\"the-stealth-warrior\")"
   ]
  },
  {
   "cell_type": "markdown",
   "id": "bce6bf41",
   "metadata": {},
   "source": [
    "### 16.3"
   ]
  },
  {
   "cell_type": "code",
   "execution_count": 51,
   "id": "c3af0bbc",
   "metadata": {},
   "outputs": [],
   "source": [
    "import re\n",
    "def to_camel_case(text):\n",
    "    return re.sub('[_-](.)', lambda x: x.group(1).upper(), text)"
   ]
  },
  {
   "cell_type": "code",
   "execution_count": 52,
   "id": "b99580c8",
   "metadata": {},
   "outputs": [
    {
     "data": {
      "text/plain": [
       "'theStealthWarrior'"
      ]
     },
     "execution_count": 52,
     "metadata": {},
     "output_type": "execute_result"
    }
   ],
   "source": [
    "to_camel_case(\"the-stealth-warrior\")"
   ]
  },
  {
   "cell_type": "markdown",
   "id": "9abdddba",
   "metadata": {},
   "source": [
    "## title()\n",
    "The title() method returns a string where the first character in every word is upper case. Like a header, or a title.\n",
    "If the word contains a number or a symbol, the first letter after that will be converted to upper case.\n",
    "\n",
    "### string.title()"
   ]
  },
  {
   "cell_type": "markdown",
   "id": "5729f796",
   "metadata": {},
   "source": [
    "# 17\n",
    "There is a queue for the self-checkout tills at the supermarket. Your task is write a function to calculate the total time required for all the customers to check out!"
   ]
  },
  {
   "cell_type": "markdown",
   "id": "a21c3ca1",
   "metadata": {},
   "source": [
    "### 17.1"
   ]
  },
  {
   "cell_type": "code",
   "execution_count": 53,
   "id": "e7878b67",
   "metadata": {},
   "outputs": [],
   "source": [
    "def queue_time(customers, n):\n",
    "    l=len(customers)\n",
    "    if n==1:return sum(i for i in customers)\n",
    "    elif n>l:return(max(customers))\n",
    "    elif n>1 or n<=l:\n",
    "        i_q=[]\n",
    "        for i in range(n):\n",
    "            i_q.append(customers[i])\n",
    "        for i in range(n,l):\n",
    "            m_i=i_q.index(min(i_q))\n",
    "            i_q[m_i]+=customers[i]\n",
    "        return max(i_q)"
   ]
  },
  {
   "cell_type": "code",
   "execution_count": 54,
   "id": "5084ca17",
   "metadata": {},
   "outputs": [
    {
     "data": {
      "text/plain": [
       "18"
      ]
     },
     "execution_count": 54,
     "metadata": {},
     "output_type": "execute_result"
    }
   ],
   "source": [
    "queue_time([2,2,4,5,10,4,7], 2)"
   ]
  },
  {
   "cell_type": "markdown",
   "id": "ed62705b",
   "metadata": {},
   "source": [
    "### 17.2"
   ]
  },
  {
   "cell_type": "code",
   "execution_count": 55,
   "id": "7e275b7f",
   "metadata": {},
   "outputs": [],
   "source": [
    "def queue_time(customers, n):\n",
    "    l=[0]*n\n",
    "    for i in customers:\n",
    "        l[l.index(min(l))]+=i\n",
    "    return max(l)"
   ]
  },
  {
   "cell_type": "code",
   "execution_count": 56,
   "id": "5dd330e1",
   "metadata": {},
   "outputs": [
    {
     "data": {
      "text/plain": [
       "31"
      ]
     },
     "execution_count": 56,
     "metadata": {},
     "output_type": "execute_result"
    }
   ],
   "source": [
    "queue_time([2,2,4,5,10,4,7,8,13], 2)"
   ]
  },
  {
   "cell_type": "markdown",
   "id": "8d608d36",
   "metadata": {},
   "source": [
    "### 17.3"
   ]
  },
  {
   "cell_type": "code",
   "execution_count": 57,
   "id": "5906cae1",
   "metadata": {},
   "outputs": [],
   "source": [
    "import heapq\n",
    "\n",
    "def queue_time(customers, n):\n",
    "    heap = [0] * n\n",
    "    for time in customers:\n",
    "        heapq.heapreplace(heap, heap[0] + time)\n",
    "    return max(heap)"
   ]
  },
  {
   "cell_type": "code",
   "execution_count": 58,
   "id": "7eb1c89f",
   "metadata": {},
   "outputs": [
    {
     "data": {
      "text/plain": [
       "19"
      ]
     },
     "execution_count": 58,
     "metadata": {},
     "output_type": "execute_result"
    }
   ],
   "source": [
    "queue_time([2,2,4,5,10,4,7,8,13], 4)"
   ]
  },
  {
   "cell_type": "markdown",
   "id": "4d3bf134",
   "metadata": {},
   "source": [
    "# 18\n",
    "The marketing team is spending way too much time typing in hashtags.\n",
    "Let's help them with our own Hashtag Generator!\n",
    "\n",
    "Here's the deal:\n",
    "\n",
    "It must start with a hashtag (#).\n",
    "All words must have their first letter capitalized.\n",
    "If the final result is longer than 140 chars it must return false.\n",
    "If the input or the result is an empty string it must return false."
   ]
  },
  {
   "cell_type": "markdown",
   "id": "9ab09a78",
   "metadata": {},
   "source": [
    "### 18.1"
   ]
  },
  {
   "cell_type": "code",
   "execution_count": 59,
   "id": "012646a7",
   "metadata": {},
   "outputs": [],
   "source": [
    "def generate_hashtag(s):\n",
    "    s='#'+s.title().replace(' ','')\n",
    "    return s if len(s)<=140 and len(s)>1 else False\n",
    "    \n",
    "\n",
    "    "
   ]
  },
  {
   "cell_type": "code",
   "execution_count": 60,
   "id": "681ee377",
   "metadata": {},
   "outputs": [
    {
     "data": {
      "text/plain": [
       "'#HelloThereThanksForTryingMyKata'"
      ]
     },
     "execution_count": 60,
     "metadata": {},
     "output_type": "execute_result"
    }
   ],
   "source": [
    "generate_hashtag(\"Hello there thanks for trying my Kata\")"
   ]
  },
  {
   "cell_type": "markdown",
   "id": "6d25361e",
   "metadata": {},
   "source": [
    "### 18.2"
   ]
  },
  {
   "cell_type": "code",
   "execution_count": 61,
   "id": "999d14d2",
   "metadata": {},
   "outputs": [],
   "source": [
    "def generate_hashtag(s):\n",
    "    ans = '#'+ str(s.title().replace(' ',''))\n",
    "    return s and not len(ans)>140 and ans or False"
   ]
  },
  {
   "cell_type": "code",
   "execution_count": 62,
   "id": "11a31c71",
   "metadata": {},
   "outputs": [
    {
     "data": {
      "text/plain": [
       "'#HelloThereThanksForTryingMyKata'"
      ]
     },
     "execution_count": 62,
     "metadata": {},
     "output_type": "execute_result"
    }
   ],
   "source": [
    "generate_hashtag(\"Hello there thanks for trying my Kata\")"
   ]
  },
  {
   "cell_type": "markdown",
   "id": "4e6e2241",
   "metadata": {},
   "source": [
    "# 19\n",
    "Write a function cakes(), which takes the recipe (object) and the available ingredients (also an object) and returns the maximum number of cakes Pete can bake (integer). For simplicity there are no units for the amounts (e.g. 1 lb of flour or 200 g of sugar are simply 1 or 200). Ingredients that are not present in the objects, can be considered as 0."
   ]
  },
  {
   "cell_type": "markdown",
   "id": "0ea8fe8c",
   "metadata": {},
   "source": []
  },
  {
   "cell_type": "markdown",
   "id": "7b98feaf",
   "metadata": {},
   "source": [
    "### 19.1"
   ]
  },
  {
   "cell_type": "code",
   "execution_count": 63,
   "id": "c1a96f47",
   "metadata": {},
   "outputs": [],
   "source": [
    "def cakes(recipe, available):\n",
    "    l=0\n",
    "    if len(recipe)<=len(available):\n",
    "        lst=[]\n",
    "        for i in recipe:\n",
    "            if (i in available and recipe[i]<=available[i]):\n",
    "                lst.append(int(available[i]/recipe[i]))\n",
    "            else:return 0\n",
    "        \n",
    "        return min(lst)\n",
    "    else:return 0"
   ]
  },
  {
   "cell_type": "code",
   "execution_count": 64,
   "id": "532cc6d2",
   "metadata": {},
   "outputs": [
    {
     "data": {
      "text/plain": [
       "1"
      ]
     },
     "execution_count": 64,
     "metadata": {},
     "output_type": "execute_result"
    }
   ],
   "source": [
    "cakes({'sugar': 150, 'apples': 3, 'flour': 300, 'milk': 100, 'oil': 100},{'apples': 20, 'flour': 700, 'sugar': 300, 'milk': 1000, 'oil': 150})"
   ]
  },
  {
   "cell_type": "markdown",
   "id": "ed754ba3",
   "metadata": {},
   "source": [
    "### 19.2"
   ]
  },
  {
   "cell_type": "code",
   "execution_count": 65,
   "id": "767b328b",
   "metadata": {},
   "outputs": [],
   "source": [
    "def cakes(recipe, available):\n",
    "    return min(available.get(k, 0)/recipe[k] for k in recipe)"
   ]
  },
  {
   "cell_type": "code",
   "execution_count": 66,
   "id": "9645b385",
   "metadata": {},
   "outputs": [
    {
     "data": {
      "text/plain": [
       "1.5"
      ]
     },
     "execution_count": 66,
     "metadata": {},
     "output_type": "execute_result"
    }
   ],
   "source": [
    "cakes({'sugar': 150, 'apples': 3, 'flour': 300, 'milk': 100, 'oil': 100},{'apples': 20, 'flour': 700, 'sugar': 300, 'milk': 1000, 'oil': 150})"
   ]
  },
  {
   "cell_type": "markdown",
   "id": "40431c10",
   "metadata": {},
   "source": [
    "### 19.3"
   ]
  },
  {
   "cell_type": "code",
   "execution_count": 67,
   "id": "9c7c57f7",
   "metadata": {},
   "outputs": [],
   "source": [
    "def cakes(recipe, available):\n",
    "    ''' Take each ingredient from the recipe, see if it is in the available ones\n",
    "        and calculate how many full cakes you can make with it.\n",
    "        If an ingredient is missing, we can't bake a cake. Otherwise we have to\n",
    "        find the lowest possible amount of cakes.'''\n",
    "    return min([available[i]//recipe[i] if i in available else 0 for i in recipe])"
   ]
  },
  {
   "cell_type": "code",
   "execution_count": 68,
   "id": "d2970c91",
   "metadata": {},
   "outputs": [
    {
     "data": {
      "text/plain": [
       "1"
      ]
     },
     "execution_count": 68,
     "metadata": {},
     "output_type": "execute_result"
    }
   ],
   "source": [
    "cakes({'sugar': 150, 'apples': 3, 'flour': 300, 'milk': 100, 'oil': 100},{'apples': 20, 'flour': 700, 'sugar': 300, 'milk': 1000, 'oil': 150})"
   ]
  },
  {
   "cell_type": "markdown",
   "id": "f5efb551",
   "metadata": {},
   "source": [
    "### 19.4"
   ]
  },
  {
   "cell_type": "code",
   "execution_count": 69,
   "id": "99629058",
   "metadata": {},
   "outputs": [],
   "source": [
    "def cakes(recipe, available):\n",
    "    try:\n",
    "        return int(min([available[a]/recipe[a] for a in recipe]))\n",
    "    except:\n",
    "        return 0"
   ]
  },
  {
   "cell_type": "code",
   "execution_count": 70,
   "id": "4544c595",
   "metadata": {},
   "outputs": [
    {
     "data": {
      "text/plain": [
       "1"
      ]
     },
     "execution_count": 70,
     "metadata": {},
     "output_type": "execute_result"
    }
   ],
   "source": [
    "cakes({'sugar': 150, 'apples': 3, 'flour': 300, 'milk': 100, 'oil': 100},{'apples': 20, 'flour': 700, 'sugar': 300, 'milk': 1000, 'oil': 150})"
   ]
  },
  {
   "cell_type": "markdown",
   "id": "6a512f02",
   "metadata": {},
   "source": [
    "# 20."
   ]
  },
  {
   "cell_type": "raw",
   "id": "0aff0b64",
   "metadata": {},
   "source": [
    "\n",
    "Alright, detective, one of our colleagues successfully observed our target person, Robby the robber. We followed him to a secret warehouse, where we assume to find all the stolen stuff. The door to this warehouse is secured by an electronic combination lock. Unfortunately our spy isn't sure about the PIN he saw, when Robby entered it.\n",
    "\n",
    "The keypad has the following layout:\n",
    "\n",
    "┌───┬───┬───┐\n",
    "│ 1 │ 2 │ 3 │\n",
    "├───┼───┼───┤\n",
    "│ 4 │ 5 │ 6 │\n",
    "├───┼───┼───┤\n",
    "│ 7 │ 8 │ 9 │\n",
    "└───┼───┼───┘\n",
    "    │ 0 │\n",
    "    └───┘\n",
    "He noted the PIN 1357, but he also said, it is possible that each of the digits he saw could actually be another adjacent digit (horizontally or vertically, but not diagonally). E.g. instead of the 1 it could also be the 2 or 4. And instead of the 5 it could also be the 2, 4, 6 or 8.\n",
    "\n",
    "He also mentioned, he knows this kind of locks. You can enter an unlimited amount of wrong PINs, they never finally lock the system or sound the alarm. That's why we can try out all possible (*) variations.\n",
    "\n",
    "* possible in sense of: the observed PIN itself and all variations considering the adjacent digits\n",
    "\n",
    "Can you help us to find all those variations? It would be nice to have a function, that returns an array (or a list in Java/Kotlin and C#) of all variations for an observed PIN with a length of 1 to 8 digits. We could name the function getPINs (get_pins in python, GetPINs in C#). But please note that all PINs, the observed one and also the results, must be strings, because of potentially leading '0's. We already prepared some test cases for you.\n",
    "\n",
    "Detective, we are counting on you!\n",
    "\n"
   ]
  },
  {
   "cell_type": "markdown",
   "id": "6b343395",
   "metadata": {},
   "source": [
    "### 20.1"
   ]
  },
  {
   "cell_type": "code",
   "execution_count": 71,
   "id": "b34329ab",
   "metadata": {},
   "outputs": [],
   "source": [
    "import itertools\n",
    "def get_pins(observed):\n",
    "    a =[n for n in observed]\n",
    "    lst=[]\n",
    "    new=[]\n",
    "    dic={'1':['1','2','4'],'2':['1','2','3','5'],'3':['2','3','6'] ,'4':['1','4','5','7'],'5':['2','4','5','6','8'],'6':['3','5','6','9'],'7':['4','7','8'],'8':['5','7','8','9','0'],'9':['6','8','9'],'0':['0','8']}\n",
    "    for i in a:\n",
    "        lst.append(dic[i])\n",
    "    lst=list(itertools.product(*lst))\n",
    "    for i in lst:\n",
    "        new.append(''.join(i))\n",
    "    return new\n",
    "    \n",
    "   "
   ]
  },
  {
   "cell_type": "code",
   "execution_count": 72,
   "id": "d297397d",
   "metadata": {},
   "outputs": [
    {
     "data": {
      "text/plain": [
       "['13',\n",
       " '15',\n",
       " '16',\n",
       " '19',\n",
       " '43',\n",
       " '45',\n",
       " '46',\n",
       " '49',\n",
       " '53',\n",
       " '55',\n",
       " '56',\n",
       " '59',\n",
       " '73',\n",
       " '75',\n",
       " '76',\n",
       " '79']"
      ]
     },
     "execution_count": 72,
     "metadata": {},
     "output_type": "execute_result"
    }
   ],
   "source": [
    "get_pins('46')"
   ]
  },
  {
   "cell_type": "markdown",
   "id": "813da4bb",
   "metadata": {},
   "source": [
    "### 20.2"
   ]
  },
  {
   "cell_type": "code",
   "execution_count": 73,
   "id": "5c1e9ea4",
   "metadata": {},
   "outputs": [],
   "source": [
    "from itertools import product\n",
    "\n",
    "ADJACENTS = ('08', '124', '2135', '326', '4157', '52468', '6359', '748', '85790', '968')\n",
    "\n",
    "def get_pins(observed):\n",
    "    return [''.join(p) for p in product(*(ADJACENTS[int(d)] for d in observed))]"
   ]
  },
  {
   "cell_type": "code",
   "execution_count": 74,
   "id": "375a959d",
   "metadata": {},
   "outputs": [
    {
     "data": {
      "text/plain": [
       "['11', '12', '14', '21', '22', '24', '41', '42', '44']"
      ]
     },
     "execution_count": 74,
     "metadata": {},
     "output_type": "execute_result"
    }
   ],
   "source": [
    "get_pins('11')"
   ]
  },
  {
   "cell_type": "markdown",
   "id": "4bf39f25",
   "metadata": {},
   "source": [
    "### 20.3"
   ]
  },
  {
   "cell_type": "code",
   "execution_count": 75,
   "id": "d14851f5",
   "metadata": {},
   "outputs": [],
   "source": [
    "from itertools import product\n",
    "\n",
    "\n",
    "PIN = {'1': ('1', '2', '4'), \n",
    "       '2': ('1', '2', '3', '5'), \n",
    "       '3': ('2', '3', '6'), \n",
    "       '4': ('1', '4', '5', '7'), \n",
    "       '5': ('2', '4', '5', '6', '8'), \n",
    "       '6': ('5', '6', '9', '3'), \n",
    "       '7': ('4', '7', '8'), \n",
    "       '8': ('7', '5', '8', '9', '0'), \n",
    "       '9': ('6', '8', '9'), '0': ('0', '8')}\n",
    "\n",
    "\n",
    "def get_pins(observed):\n",
    "    return [''.join(a) for a in product(*(PIN[b] for b in observed))]"
   ]
  },
  {
   "cell_type": "code",
   "execution_count": 76,
   "id": "0e4433d0",
   "metadata": {},
   "outputs": [
    {
     "data": {
      "text/plain": [
       "['12', '13', '16', '22', '23', '26', '32', '33', '36', '52', '53', '56']"
      ]
     },
     "execution_count": 76,
     "metadata": {},
     "output_type": "execute_result"
    }
   ],
   "source": [
    "get_pins('23')"
   ]
  },
  {
   "cell_type": "markdown",
   "id": "ff6f88a6",
   "metadata": {},
   "source": [
    "### 20.4"
   ]
  },
  {
   "cell_type": "code",
   "execution_count": 77,
   "id": "1dcb6f5b",
   "metadata": {},
   "outputs": [],
   "source": [
    "def get_pins(observed):\n",
    "  map = [['8','0'], ['1','2','4'], ['1','2','3','5'], ['2','3','6'], ['1','4','5','7'], ['2','4','5','6','8'],\n",
    "         ['3','5','6','9'], ['4','7','8'], ['5','7','8','9','0'], ['6','8','9']]\n",
    "  return map[int(observed[0])] if len(observed) == 1 else [x + y for x in map[int(observed[0])] for y in get_pins(observed[1:])]"
   ]
  },
  {
   "cell_type": "code",
   "execution_count": 78,
   "id": "ba97e8ec",
   "metadata": {},
   "outputs": [
    {
     "data": {
      "text/plain": [
       "['34', '37', '38', '54', '57', '58', '64', '67', '68', '94', '97', '98']"
      ]
     },
     "execution_count": 78,
     "metadata": {},
     "output_type": "execute_result"
    }
   ],
   "source": [
    "get_pins('67')"
   ]
  },
  {
   "cell_type": "markdown",
   "id": "cec5e151",
   "metadata": {},
   "source": [
    "# 21. \n",
    "ROT13 is a simple letter substitution cipher that replaces a letter with the letter 13 letters after it in the alphabet. ROT13 is an example of the Caesar cipher.\n",
    "\n",
    "Create a function that takes a string and returns the string ciphered with Rot13. If there are numbers or special characters included in the string, they should be returned as they are. Only letters from the latin/english alphabet should be shifted, like in the original Rot13 \"implementation\"."
   ]
  },
  {
   "cell_type": "code",
   "execution_count": 1,
   "id": "1c167102",
   "metadata": {},
   "outputs": [],
   "source": [
    "def rot13(message):\n",
    "    key='ABCDEFGHIJKLMNOPQRSTUVWXYZ'\n",
    "    key_low=key.lower()\n",
    "    new=''\n",
    "    for char in message:\n",
    "        k=key if char in key else key_low\n",
    "        if char in k:\n",
    "            if k.index(char)<13:new+=k[(k.index(char))+13]\n",
    "            else:new+=k[(k.index(char))-13]\n",
    "        else:new+=char\n",
    "    return(new)"
   ]
  },
  {
   "cell_type": "code",
   "execution_count": 2,
   "id": "0e617629",
   "metadata": {},
   "outputs": [
    {
     "data": {
      "text/plain": [
       "'aqsuraQESUeu'"
      ]
     },
     "execution_count": 2,
     "metadata": {},
     "output_type": "execute_result"
    }
   ],
   "source": [
    "rot13('ndfhenDRFHrh')"
   ]
  },
  {
   "cell_type": "markdown",
   "id": "05c5ac96",
   "metadata": {},
   "source": [
    "# 22"
   ]
  },
  {
   "cell_type": "code",
   "execution_count": 2,
   "id": "4b5f0e2d",
   "metadata": {},
   "outputs": [],
   "source": [
    "def fibonacci(n):\n",
    "    if n in [0, 1]:\n",
    "        return n\n",
    "    return fibonacci(n - 1) + fibonacci(n - 2)"
   ]
  },
  {
   "cell_type": "code",
   "execution_count": 4,
   "id": "585789d8",
   "metadata": {},
   "outputs": [
    {
     "ename": "KeyboardInterrupt",
     "evalue": "",
     "output_type": "error",
     "traceback": [
      "\u001b[1;31m---------------------------------------------------------------------------\u001b[0m",
      "\u001b[1;31mKeyboardInterrupt\u001b[0m                         Traceback (most recent call last)",
      "Input \u001b[1;32mIn [4]\u001b[0m, in \u001b[0;36m<cell line: 1>\u001b[1;34m()\u001b[0m\n\u001b[1;32m----> 1\u001b[0m \u001b[43mfibonacci\u001b[49m\u001b[43m(\u001b[49m\u001b[38;5;241;43m50\u001b[39;49m\u001b[43m)\u001b[49m\n",
      "Input \u001b[1;32mIn [2]\u001b[0m, in \u001b[0;36mfibonacci\u001b[1;34m(n)\u001b[0m\n\u001b[0;32m      2\u001b[0m \u001b[38;5;28;01mif\u001b[39;00m n \u001b[38;5;129;01min\u001b[39;00m [\u001b[38;5;241m0\u001b[39m, \u001b[38;5;241m1\u001b[39m]:\n\u001b[0;32m      3\u001b[0m     \u001b[38;5;28;01mreturn\u001b[39;00m n\n\u001b[1;32m----> 4\u001b[0m \u001b[38;5;28;01mreturn\u001b[39;00m \u001b[43mfibonacci\u001b[49m\u001b[43m(\u001b[49m\u001b[43mn\u001b[49m\u001b[43m \u001b[49m\u001b[38;5;241;43m-\u001b[39;49m\u001b[43m \u001b[49m\u001b[38;5;241;43m1\u001b[39;49m\u001b[43m)\u001b[49m \u001b[38;5;241m+\u001b[39m fibonacci(n \u001b[38;5;241m-\u001b[39m \u001b[38;5;241m2\u001b[39m)\n",
      "Input \u001b[1;32mIn [2]\u001b[0m, in \u001b[0;36mfibonacci\u001b[1;34m(n)\u001b[0m\n\u001b[0;32m      2\u001b[0m \u001b[38;5;28;01mif\u001b[39;00m n \u001b[38;5;129;01min\u001b[39;00m [\u001b[38;5;241m0\u001b[39m, \u001b[38;5;241m1\u001b[39m]:\n\u001b[0;32m      3\u001b[0m     \u001b[38;5;28;01mreturn\u001b[39;00m n\n\u001b[1;32m----> 4\u001b[0m \u001b[38;5;28;01mreturn\u001b[39;00m \u001b[43mfibonacci\u001b[49m\u001b[43m(\u001b[49m\u001b[43mn\u001b[49m\u001b[43m \u001b[49m\u001b[38;5;241;43m-\u001b[39;49m\u001b[43m \u001b[49m\u001b[38;5;241;43m1\u001b[39;49m\u001b[43m)\u001b[49m \u001b[38;5;241m+\u001b[39m fibonacci(n \u001b[38;5;241m-\u001b[39m \u001b[38;5;241m2\u001b[39m)\n",
      "    \u001b[1;31m[... skipping similar frames: fibonacci at line 4 (29 times)]\u001b[0m\n",
      "Input \u001b[1;32mIn [2]\u001b[0m, in \u001b[0;36mfibonacci\u001b[1;34m(n)\u001b[0m\n\u001b[0;32m      2\u001b[0m \u001b[38;5;28;01mif\u001b[39;00m n \u001b[38;5;129;01min\u001b[39;00m [\u001b[38;5;241m0\u001b[39m, \u001b[38;5;241m1\u001b[39m]:\n\u001b[0;32m      3\u001b[0m     \u001b[38;5;28;01mreturn\u001b[39;00m n\n\u001b[1;32m----> 4\u001b[0m \u001b[38;5;28;01mreturn\u001b[39;00m fibonacci(n \u001b[38;5;241m-\u001b[39m \u001b[38;5;241m1\u001b[39m) \u001b[38;5;241m+\u001b[39m \u001b[43mfibonacci\u001b[49m(n \u001b[38;5;241m-\u001b[39m \u001b[38;5;241m2\u001b[39m)\n",
      "\u001b[1;31mKeyboardInterrupt\u001b[0m: "
     ]
    }
   ],
   "source": [
    "fibonacci(50)"
   ]
  },
  {
   "cell_type": "code",
   "execution_count": null,
   "id": "25f8d32a",
   "metadata": {},
   "outputs": [],
   "source": []
  },
  {
   "cell_type": "code",
   "execution_count": null,
   "id": "476facc6",
   "metadata": {},
   "outputs": [],
   "source": []
  },
  {
   "cell_type": "code",
   "execution_count": null,
   "id": "5e601d6c",
   "metadata": {},
   "outputs": [],
   "source": []
  }
 ],
 "metadata": {
  "kernelspec": {
   "display_name": "Python 3 (ipykernel)",
   "language": "python",
   "name": "python3"
  },
  "language_info": {
   "codemirror_mode": {
    "name": "ipython",
    "version": 3
   },
   "file_extension": ".py",
   "mimetype": "text/x-python",
   "name": "python",
   "nbconvert_exporter": "python",
   "pygments_lexer": "ipython3",
   "version": "3.9.7"
  }
 },
 "nbformat": 4,
 "nbformat_minor": 5
}
